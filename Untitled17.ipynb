{
 "cells": [
  {
   "cell_type": "code",
   "execution_count": null,
   "id": "8dec5a08",
   "metadata": {},
   "outputs": [
    {
     "name": "stdout",
     "output_type": "stream",
     "text": [
      "Welcome to the Color Guessing Game!\n",
      "Guess the color I'm thinking of.\n",
      "Enter your guess: red\n",
      "Wrong guess. Try again!\n",
      "Enter your guess: yellow\n",
      "Wrong guess. Try again!\n"
     ]
    }
   ],
   "source": [
    "import random\n",
    "\n",
    "colors = ['red', 'blue', 'green', 'yellow', 'orange', 'purple']\n",
    "selected_color = random.choice(colors)\n",
    "\n",
    "print(\"Welcome to the Color Guessing Game!\")\n",
    "print(\"Guess the color I'm thinking of.\")\n",
    "\n",
    "while True:\n",
    "    guess = input(\"Enter your guess: \").lower()\n",
    "\n",
    "    if guess == selected_color:\n",
    "        print(\"Congratulations! You guessed the correct color.\")\n",
    "        break\n",
    "    elif guess == \"quit\":\n",
    "        print(\"Quitting the game.\")\n",
    "        break\n",
    "    else:\n",
    "        print(\"Wrong guess. Try again!\")\n",
    "\n",
    "print(\"Thanks for playing!\")\n"
   ]
  },
  {
   "cell_type": "code",
   "execution_count": null,
   "id": "122fc230",
   "metadata": {},
   "outputs": [],
   "source": []
  }
 ],
 "metadata": {
  "kernelspec": {
   "display_name": "Python 3",
   "language": "python",
   "name": "python3"
  },
  "language_info": {
   "codemirror_mode": {
    "name": "ipython",
    "version": 3
   },
   "file_extension": ".py",
   "mimetype": "text/x-python",
   "name": "python",
   "nbconvert_exporter": "python",
   "pygments_lexer": "ipython3",
   "version": "3.8.8"
  }
 },
 "nbformat": 4,
 "nbformat_minor": 5
}
